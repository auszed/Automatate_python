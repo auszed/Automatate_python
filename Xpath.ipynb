{
 "cells": [
  {
   "cell_type": "markdown",
   "id": "a3feddfe-411f-40b6-8c1c-d1c9458d63be",
   "metadata": {},
   "source": [
    "# Xpath functions\n",
    "\n",
    "* contains() = contain this text\n",
    "* starts-with() = the text  that starts with\n",
    "\n",
    "* tagname[(expression 1) and (expression 2)]\n",
    "* text() = get the text from the tag"
   ]
  },
  {
   "cell_type": "markdown",
   "id": "cca7b414-2df1-4359-a9c5-bbe879c41c4a",
   "metadata": {},
   "source": [
    "* ./ =  select the children from the node\n",
    "* //tag   = select all items bellow the eleement\n",
    "* . = specifies the current context refers to the present node\n",
    "* .. = refers to a parent node\n",
    "* * = selects all the elements\n",
    "* @ = select an atribute\n",
    "* () = grouping an XPATH expression\n",
    "* [n] = Indicates that a node with index \"n\" should be selected"
   ]
  }
 ],
 "metadata": {
  "kernelspec": {
   "display_name": "Python 3 (ipykernel)",
   "language": "python",
   "name": "python3"
  },
  "language_info": {
   "codemirror_mode": {
    "name": "ipython",
    "version": 3
   },
   "file_extension": ".py",
   "mimetype": "text/x-python",
   "name": "python",
   "nbconvert_exporter": "python",
   "pygments_lexer": "ipython3",
   "version": "3.9.13"
  }
 },
 "nbformat": 4,
 "nbformat_minor": 5
}
