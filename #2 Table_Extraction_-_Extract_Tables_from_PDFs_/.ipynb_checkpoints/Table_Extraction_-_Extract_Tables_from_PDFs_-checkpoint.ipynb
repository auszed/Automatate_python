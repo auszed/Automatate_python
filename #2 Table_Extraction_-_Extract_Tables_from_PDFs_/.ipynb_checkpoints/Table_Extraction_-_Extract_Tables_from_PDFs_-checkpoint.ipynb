{
 "cells": [
  {
   "cell_type": "code",
   "execution_count": null,
   "metadata": {},
   "outputs": [
    {
     "ename": "ModuleNotFoundError",
     "evalue": "No module named 'camelot'",
     "output_type": "error",
     "traceback": [
      "\u001b[1;31m---------------------------------------------------------------------------\u001b[0m",
      "\u001b[1;31mModuleNotFoundError\u001b[0m                       Traceback (most recent call last)",
      "\u001b[1;32mc:\\Users\\hanns\\OneDrive\\Documentos\\Data_science_code\\Automate_with_Python\\#2 Table_Extraction_-_Extract_Tables_from_PDFs_\\Table_Extraction_-_Extract_Tables_from_PDFs_.ipynb Cell 1\u001b[0m in \u001b[0;36m<cell line: 1>\u001b[1;34m()\u001b[0m\n\u001b[1;32m----> <a href='vscode-notebook-cell:/c%3A/Users/hanns/OneDrive/Documentos/Data_science_code/Automate_with_Python/%232%20Table_Extraction_-_Extract_Tables_from_PDFs_/Table_Extraction_-_Extract_Tables_from_PDFs_.ipynb#W0sZmlsZQ%3D%3D?line=0'>1</a>\u001b[0m \u001b[39mimport\u001b[39;00m \u001b[39mcamelot\u001b[39;00m\n",
      "\u001b[1;31mModuleNotFoundError\u001b[0m: No module named 'camelot'"
     ]
    }
   ],
   "source": [
    "import camelot"
   ]
  },
  {
   "cell_type": "code",
   "execution_count": null,
   "metadata": {},
   "outputs": [],
   "source": [
    "# read the PDF and extract the table\n",
    "\n",
    "camelot.read_pdf('foo.pdf', pages = 1,)"
   ]
  }
 ],
 "metadata": {
  "kernelspec": {
   "display_name": "Python 3.9.12 ('Testing')",
   "language": "python",
   "name": "python3"
  },
  "language_info": {
   "codemirror_mode": {
    "name": "ipython",
    "version": 3
   },
   "file_extension": ".py",
   "mimetype": "text/x-python",
   "name": "python",
   "nbconvert_exporter": "python",
   "pygments_lexer": "ipython3",
   "version": "3.9.12"
  },
  "orig_nbformat": 4,
  "vscode": {
   "interpreter": {
    "hash": "c1050081fe817a7b58ff9f7f87c6fcd7c210ccf45966319680d9ae5ec9a30405"
   }
  }
 },
 "nbformat": 4,
 "nbformat_minor": 2
}
