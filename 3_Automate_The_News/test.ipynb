{
 "cells": [
  {
   "cell_type": "code",
   "execution_count": 17,
   "metadata": {},
   "outputs": [],
   "source": [
    "from selenium import webdriver\n",
    "import pandas as pd\n",
    "import os\n",
    "import sys\n",
    "# importing the day and time \n",
    "import datetime\n",
    "import time\n",
    "\n",
    "import csv"
   ]
  },
  {
   "cell_type": "code",
   "execution_count": 14,
   "metadata": {},
   "outputs": [],
   "source": [
    "# export the file where we are running the file\n",
    "aplication_path = os.path.dirname(sys.executable)"
   ]
  },
  {
   "cell_type": "code",
   "execution_count": 2,
   "metadata": {},
   "outputs": [],
   "source": [
    "website = \"https://www.reuters.com/\""
   ]
  },
  {
   "cell_type": "code",
   "execution_count": null,
   "metadata": {},
   "outputs": [],
   "source": [
    "opciones = Options()\n",
    "opciones.headless = True"
   ]
  },
  {
   "cell_type": "code",
   "execution_count": 10,
   "metadata": {},
   "outputs": [],
   "source": [
    "driver = webdriver.Chrome()"
   ]
  },
  {
   "cell_type": "code",
   "execution_count": 28,
   "metadata": {},
   "outputs": [
    {
     "ename": "NoSuchElementException",
     "evalue": "Message: no such element: Unable to locate element: {\"method\":\"xpath\",\"selector\":\"//div[@id=\"onetrust-button-group\"]/button\"}\n  (Session info: chrome=107.0.5304.107)\n",
     "output_type": "error",
     "traceback": [
      "\u001b[1;31m---------------------------------------------------------------------------\u001b[0m",
      "\u001b[1;31mNoSuchElementException\u001b[0m                    Traceback (most recent call last)",
      "Cell \u001b[1;32mIn [28], line 9\u001b[0m\n\u001b[0;32m      7\u001b[0m driver\u001b[39m.\u001b[39mmaximize_window()\n\u001b[0;32m      8\u001b[0m \u001b[39m# accept all the conditions\u001b[39;00m\n\u001b[1;32m----> 9\u001b[0m accept_terms \u001b[39m=\u001b[39m driver\u001b[39m.\u001b[39;49mfind_element(by \u001b[39m=\u001b[39;49m \u001b[39m\"\u001b[39;49m\u001b[39mxpath\u001b[39;49m\u001b[39m\"\u001b[39;49m, value\u001b[39m=\u001b[39;49m\u001b[39m'\u001b[39;49m\u001b[39m//div[@id=\u001b[39;49m\u001b[39m\"\u001b[39;49m\u001b[39monetrust-button-group\u001b[39;49m\u001b[39m\"\u001b[39;49m\u001b[39m]/button\u001b[39;49m\u001b[39m'\u001b[39;49m)\n\u001b[0;32m     11\u001b[0m driver\u001b[39m.\u001b[39mimplicitly_wait(\u001b[39m0.2\u001b[39m)\n\u001b[0;32m     12\u001b[0m \u001b[39m# we click the bottom\u001b[39;00m\n",
      "File \u001b[1;32mc:\\Users\\hanns\\anaconda3\\envs\\ExcelorSpreadcheet\\lib\\site-packages\\selenium\\webdriver\\remote\\webdriver.py:976\u001b[0m, in \u001b[0;36mWebDriver.find_element\u001b[1;34m(self, by, value)\u001b[0m\n\u001b[0;32m    974\u001b[0m         by \u001b[39m=\u001b[39m By\u001b[39m.\u001b[39mCSS_SELECTOR\n\u001b[0;32m    975\u001b[0m         value \u001b[39m=\u001b[39m \u001b[39m'\u001b[39m\u001b[39m[name=\u001b[39m\u001b[39m\"\u001b[39m\u001b[39m%s\u001b[39;00m\u001b[39m\"\u001b[39m\u001b[39m]\u001b[39m\u001b[39m'\u001b[39m \u001b[39m%\u001b[39m value\n\u001b[1;32m--> 976\u001b[0m \u001b[39mreturn\u001b[39;00m \u001b[39mself\u001b[39;49m\u001b[39m.\u001b[39;49mexecute(Command\u001b[39m.\u001b[39;49mFIND_ELEMENT, {\n\u001b[0;32m    977\u001b[0m     \u001b[39m'\u001b[39;49m\u001b[39musing\u001b[39;49m\u001b[39m'\u001b[39;49m: by,\n\u001b[0;32m    978\u001b[0m     \u001b[39m'\u001b[39;49m\u001b[39mvalue\u001b[39;49m\u001b[39m'\u001b[39;49m: value})[\u001b[39m'\u001b[39m\u001b[39mvalue\u001b[39m\u001b[39m'\u001b[39m]\n",
      "File \u001b[1;32mc:\\Users\\hanns\\anaconda3\\envs\\ExcelorSpreadcheet\\lib\\site-packages\\selenium\\webdriver\\remote\\webdriver.py:321\u001b[0m, in \u001b[0;36mWebDriver.execute\u001b[1;34m(self, driver_command, params)\u001b[0m\n\u001b[0;32m    319\u001b[0m response \u001b[39m=\u001b[39m \u001b[39mself\u001b[39m\u001b[39m.\u001b[39mcommand_executor\u001b[39m.\u001b[39mexecute(driver_command, params)\n\u001b[0;32m    320\u001b[0m \u001b[39mif\u001b[39;00m response:\n\u001b[1;32m--> 321\u001b[0m     \u001b[39mself\u001b[39;49m\u001b[39m.\u001b[39;49merror_handler\u001b[39m.\u001b[39;49mcheck_response(response)\n\u001b[0;32m    322\u001b[0m     response[\u001b[39m'\u001b[39m\u001b[39mvalue\u001b[39m\u001b[39m'\u001b[39m] \u001b[39m=\u001b[39m \u001b[39mself\u001b[39m\u001b[39m.\u001b[39m_unwrap_value(\n\u001b[0;32m    323\u001b[0m         response\u001b[39m.\u001b[39mget(\u001b[39m'\u001b[39m\u001b[39mvalue\u001b[39m\u001b[39m'\u001b[39m, \u001b[39mNone\u001b[39;00m))\n\u001b[0;32m    324\u001b[0m     \u001b[39mreturn\u001b[39;00m response\n",
      "File \u001b[1;32mc:\\Users\\hanns\\anaconda3\\envs\\ExcelorSpreadcheet\\lib\\site-packages\\selenium\\webdriver\\remote\\errorhandler.py:242\u001b[0m, in \u001b[0;36mErrorHandler.check_response\u001b[1;34m(self, response)\u001b[0m\n\u001b[0;32m    240\u001b[0m         alert_text \u001b[39m=\u001b[39m value[\u001b[39m'\u001b[39m\u001b[39malert\u001b[39m\u001b[39m'\u001b[39m]\u001b[39m.\u001b[39mget(\u001b[39m'\u001b[39m\u001b[39mtext\u001b[39m\u001b[39m'\u001b[39m)\n\u001b[0;32m    241\u001b[0m     \u001b[39mraise\u001b[39;00m exception_class(message, screen, stacktrace, alert_text)\n\u001b[1;32m--> 242\u001b[0m \u001b[39mraise\u001b[39;00m exception_class(message, screen, stacktrace)\n",
      "\u001b[1;31mNoSuchElementException\u001b[0m: Message: no such element: Unable to locate element: {\"method\":\"xpath\",\"selector\":\"//div[@id=\"onetrust-button-group\"]/button\"}\n  (Session info: chrome=107.0.5304.107)\n"
     ]
    }
   ],
   "source": [
    "# link for the website\n",
    "driver.get(website)\n",
    "\n",
    "\n",
    "driver.implicitly_wait(0.2)\n",
    "# maximaze the window\n",
    "driver.maximize_window()\n",
    "# accept all the conditions\n",
    "accept_terms = driver.find_element(by = \"xpath\", value='//div[@id=\"onetrust-button-group\"]/button')\n",
    "\n",
    "driver.implicitly_wait(0.2)\n",
    "# we click the bottom\n",
    "accept_terms.click()\n",
    "driver.implicitly_wait(2)\n",
    "\n",
    "\n",
    "\n",
    "# import the container of the website\n",
    "container = driver.find_elements(by = \"xpath\", value='//div[@data-testid=\"MediaStoryCard\"]')\n",
    "\n",
    "# add the items in a lists\n",
    "titles = []\n",
    "links_a = []\n",
    "\n",
    "\n",
    "# for look for extracting the element inside the box\n",
    "for contain in container:\n",
    "    # older xpath\n",
    "    # //a[@data-testid=\"Heading\"]/span\n",
    "    title = contain.find_element(by = \"xpath\", value = './/a[@data-testid=\"Heading\"]/span').text\n",
    "\n",
    "    link_a = contain.get_attribute(\"href\")\n",
    "\n",
    "    # append or add the text to the lists\n",
    "    titles.append(title)\n",
    "    links_a.append(link_a)\n",
    "\n",
    "# use a dictionary to add the values from the list to the dictionary\n",
    "my_dictionay = {'titles': titles, 'links': link_a}\n",
    "\n",
    "# transform into the pandas format\n",
    "df_headline = pd.DataFrame(my_dictionay)\n",
    "\n"
   ]
  },
  {
   "cell_type": "code",
   "execution_count": 27,
   "metadata": {},
   "outputs": [
    {
     "name": "stdout",
     "output_type": "stream",
     "text": [
      "{'titles': ['Escalation fears ease after NATO, Warsaw say missile that hit Poland was Ukrainian stray', 'U.S. Senate Republicans vote to keep McConnell as leader, spokesperson says', 'Kherson residents describe torture during the Russian occupation', 'Crypto broker Genesis suspends loan redemptions; Bankman-Fried, celebrities sued', 'Musk says he was focused on reviving Tesla, defends $56 bln pay', \"COP27:Brazil's Lula says Amazon rainforest vital to global climate security\", 'COP27 negotiators still far apart on strong climate deal', 'COP27: Children from Global South make their presence felt at climate summit', 'Factbox: COP27: Counting the rising cost of climate disasters', 'Trump allies turn on top congressional Republicans after dismal midterms', 'Mormon church backs U.S. measure to protect gay marriage', \"Car crashes into Los Angeles sheriff's department recruits on training run\", 'Factbox: Who could run in the 2024 U.S. presidential election?', 'Brutality of war grips Polish village where missile struck', 'UK MI5 chief says expulsion of Russian spies has delivered significant blow', 'Russian economy shrinks 4% in third quarter - statistics agency', \"Moldova's PM nominates new economy minister as problems mount\", \"Haizhu district in China's Guangzhou city extends COVID-19 restrictions in some areas\", \"India's Modi, Britain's Sunak meet at G20, discuss ways to boost trade\", 'Foreign visitors in Japan surge after tourism reopening', \"Taiwan president decries 'rumours' about the island's chip investment risk\", 'Palestinian kills three in West Bank as Israeli politics veers rightward', \"Turkey's Erdogan sees no losers from peace between Ukraine, Russia\", 'Iranians strike to mark 2019 protests in fresh rebuff to ruling clerics', 'Turkey to pursue targets in Syria, official says after Istanbul blast', 'Ruthless Djokovic crushes Rublev to reach last four in Turin', 'Hamilton has one last shot to avoid first winless season', 'Qatar authorities apologise for threatening Danish film crew at World Cup', \"Son unsure if he can play in all of South Korea's games\", 'Missile that hit Poland likely a stray', 'Defining photos from the Trump presidency', 'Classic World Cup moments'], 'links': 'https://www.reuters.com/world/europe/pictures-inside-battle-ukraine-2022-02-28/'}\n"
     ]
    }
   ],
   "source": [
    "print(my_dictionay)"
   ]
  },
  {
   "cell_type": "code",
   "execution_count": 12,
   "metadata": {},
   "outputs": [
    {
     "name": "stdout",
     "output_type": "stream",
     "text": [
      "                                               titles  \\\n",
      "0   Escalation fears ease after NATO, Warsaw say m...   \n",
      "1   U.S. Senate Republicans vote to keep McConnell...   \n",
      "2   Kherson residents describe torture during the ...   \n",
      "3   Crypto broker Genesis suspends loan redemption...   \n",
      "4   Musk says he was focused on reviving Tesla, de...   \n",
      "5   COP27:Brazil's Lula says Amazon rainforest vit...   \n",
      "6   COP27 negotiators still far apart on strong cl...   \n",
      "7   COP27: Children from Global South make their p...   \n",
      "8   Factbox: COP27: Counting the rising cost of cl...   \n",
      "9   Trump allies turn on top congressional Republi...   \n",
      "10  Mormon church backs U.S. measure to protect ga...   \n",
      "11  Car crashes into Los Angeles sheriff's departm...   \n",
      "12  Factbox: Who could run in the 2024 U.S. presid...   \n",
      "13  Brutality of war grips Polish village where mi...   \n",
      "14  UK MI5 chief says expulsion of Russian spies h...   \n",
      "15  Russian economy shrinks 4% in third quarter - ...   \n",
      "16  Moldova's PM nominates new economy minister as...   \n",
      "17  Haizhu district in China's Guangzhou city exte...   \n",
      "18  India's Modi, Britain's Sunak meet at G20, dis...   \n",
      "19  Foreign visitors in Japan surge after tourism ...   \n",
      "20  Taiwan president decries 'rumours' about the i...   \n",
      "21  Palestinian kills three in West Bank as Israel...   \n",
      "22  Turkey's Erdogan sees no losers from peace bet...   \n",
      "23  Iranians strike to mark 2019 protests in fresh...   \n",
      "24  Turkey to pursue targets in Syria, official sa...   \n",
      "25  Ruthless Djokovic crushes Rublev to reach last...   \n",
      "26  Hamilton has one last shot to avoid first winl...   \n",
      "27  Qatar authorities apologise for threatening Da...   \n",
      "28  Son unsure if he can play in all of South Kore...   \n",
      "29             Missile that hit Poland likely a stray   \n",
      "30          Defining photos from the Trump presidency   \n",
      "31                          Classic World Cup moments   \n",
      "\n",
      "                                                links  \n",
      "0   https://www.reuters.com/world/europe/pictures-...  \n",
      "1   https://www.reuters.com/world/europe/pictures-...  \n",
      "2   https://www.reuters.com/world/europe/pictures-...  \n",
      "3   https://www.reuters.com/world/europe/pictures-...  \n",
      "4   https://www.reuters.com/world/europe/pictures-...  \n",
      "5   https://www.reuters.com/world/europe/pictures-...  \n",
      "6   https://www.reuters.com/world/europe/pictures-...  \n",
      "7   https://www.reuters.com/world/europe/pictures-...  \n",
      "8   https://www.reuters.com/world/europe/pictures-...  \n",
      "9   https://www.reuters.com/world/europe/pictures-...  \n",
      "10  https://www.reuters.com/world/europe/pictures-...  \n",
      "11  https://www.reuters.com/world/europe/pictures-...  \n",
      "12  https://www.reuters.com/world/europe/pictures-...  \n",
      "13  https://www.reuters.com/world/europe/pictures-...  \n",
      "14  https://www.reuters.com/world/europe/pictures-...  \n",
      "15  https://www.reuters.com/world/europe/pictures-...  \n",
      "16  https://www.reuters.com/world/europe/pictures-...  \n",
      "17  https://www.reuters.com/world/europe/pictures-...  \n",
      "18  https://www.reuters.com/world/europe/pictures-...  \n",
      "19  https://www.reuters.com/world/europe/pictures-...  \n",
      "20  https://www.reuters.com/world/europe/pictures-...  \n",
      "21  https://www.reuters.com/world/europe/pictures-...  \n",
      "22  https://www.reuters.com/world/europe/pictures-...  \n",
      "23  https://www.reuters.com/world/europe/pictures-...  \n",
      "24  https://www.reuters.com/world/europe/pictures-...  \n",
      "25  https://www.reuters.com/world/europe/pictures-...  \n",
      "26  https://www.reuters.com/world/europe/pictures-...  \n",
      "27  https://www.reuters.com/world/europe/pictures-...  \n",
      "28  https://www.reuters.com/world/europe/pictures-...  \n",
      "29  https://www.reuters.com/world/europe/pictures-...  \n",
      "30  https://www.reuters.com/world/europe/pictures-...  \n",
      "31  https://www.reuters.com/world/europe/pictures-...  \n"
     ]
    }
   ],
   "source": [
    "print(df_headline)"
   ]
  },
  {
   "cell_type": "code",
   "execution_count": 15,
   "metadata": {},
   "outputs": [
    {
     "name": "stdout",
     "output_type": "stream",
     "text": [
      "2022-11-16\n",
      "2022-11-16_reuters.csv\n",
      "c:\\Users\\hanns\\anaconda3\\envs\\ExcelorSpreadcheet\\2022-11-16_reuters.csv\n",
      "sfdf\n"
     ]
    }
   ],
   "source": [
    "todays_date = datetime.date.today() \n",
    "#year, month and day\n",
    "tmd_day = todays_date.strftime('%Y-%m-%d') \n",
    "print(tmd_day)\n",
    "# f'{today_text}_reuters.csv'\n",
    "file_name = f'{tmd_day}_reuters.csv'\n",
    "print(file_name)\n",
    "# final path where we export the .exe file  and the join take care of the path\n",
    "final_path = os.path.join(aplication_path, file_name)\n",
    "print(final_path)\n",
    "\n",
    "# convert to csv\n",
    "df_headline.to_csv(final_path)\n",
    "print(\"sfdf\")"
   ]
  },
  {
   "cell_type": "code",
   "execution_count": 19,
   "metadata": {},
   "outputs": [],
   "source": [
    "import csv"
   ]
  },
  {
   "cell_type": "code",
   "execution_count": 26,
   "metadata": {},
   "outputs": [
    {
     "ename": "TypeError",
     "evalue": "argument of type 'method' is not iterable",
     "output_type": "error",
     "traceback": [
      "\u001b[1;31m---------------------------------------------------------------------------\u001b[0m",
      "\u001b[1;31mTypeError\u001b[0m                                 Traceback (most recent call last)",
      "Cell \u001b[1;32mIn [26], line 1\u001b[0m\n\u001b[1;32m----> 1\u001b[0m df_headline\u001b[39m.\u001b[39;49mto_csv (df_headline, index \u001b[39m=\u001b[39;49m \u001b[39mFalse\u001b[39;49;00m)\n",
      "File \u001b[1;32mc:\\Users\\hanns\\anaconda3\\envs\\ExcelorSpreadcheet\\lib\\site-packages\\pandas\\core\\generic.py:3551\u001b[0m, in \u001b[0;36mNDFrame.to_csv\u001b[1;34m(self, path_or_buf, sep, na_rep, float_format, columns, header, index, index_label, mode, encoding, compression, quoting, quotechar, line_terminator, chunksize, date_format, doublequote, escapechar, decimal, errors, storage_options)\u001b[0m\n\u001b[0;32m   3540\u001b[0m df \u001b[39m=\u001b[39m \u001b[39mself\u001b[39m \u001b[39mif\u001b[39;00m \u001b[39misinstance\u001b[39m(\u001b[39mself\u001b[39m, ABCDataFrame) \u001b[39melse\u001b[39;00m \u001b[39mself\u001b[39m\u001b[39m.\u001b[39mto_frame()\n\u001b[0;32m   3542\u001b[0m formatter \u001b[39m=\u001b[39m DataFrameFormatter(\n\u001b[0;32m   3543\u001b[0m     frame\u001b[39m=\u001b[39mdf,\n\u001b[0;32m   3544\u001b[0m     header\u001b[39m=\u001b[39mheader,\n\u001b[1;32m   (...)\u001b[0m\n\u001b[0;32m   3548\u001b[0m     decimal\u001b[39m=\u001b[39mdecimal,\n\u001b[0;32m   3549\u001b[0m )\n\u001b[1;32m-> 3551\u001b[0m \u001b[39mreturn\u001b[39;00m DataFrameRenderer(formatter)\u001b[39m.\u001b[39;49mto_csv(\n\u001b[0;32m   3552\u001b[0m     path_or_buf,\n\u001b[0;32m   3553\u001b[0m     line_terminator\u001b[39m=\u001b[39;49mline_terminator,\n\u001b[0;32m   3554\u001b[0m     sep\u001b[39m=\u001b[39;49msep,\n\u001b[0;32m   3555\u001b[0m     encoding\u001b[39m=\u001b[39;49mencoding,\n\u001b[0;32m   3556\u001b[0m     errors\u001b[39m=\u001b[39;49merrors,\n\u001b[0;32m   3557\u001b[0m     compression\u001b[39m=\u001b[39;49mcompression,\n\u001b[0;32m   3558\u001b[0m     quoting\u001b[39m=\u001b[39;49mquoting,\n\u001b[0;32m   3559\u001b[0m     columns\u001b[39m=\u001b[39;49mcolumns,\n\u001b[0;32m   3560\u001b[0m     index_label\u001b[39m=\u001b[39;49mindex_label,\n\u001b[0;32m   3561\u001b[0m     mode\u001b[39m=\u001b[39;49mmode,\n\u001b[0;32m   3562\u001b[0m     chunksize\u001b[39m=\u001b[39;49mchunksize,\n\u001b[0;32m   3563\u001b[0m     quotechar\u001b[39m=\u001b[39;49mquotechar,\n\u001b[0;32m   3564\u001b[0m     date_format\u001b[39m=\u001b[39;49mdate_format,\n\u001b[0;32m   3565\u001b[0m     doublequote\u001b[39m=\u001b[39;49mdoublequote,\n\u001b[0;32m   3566\u001b[0m     escapechar\u001b[39m=\u001b[39;49mescapechar,\n\u001b[0;32m   3567\u001b[0m     storage_options\u001b[39m=\u001b[39;49mstorage_options,\n\u001b[0;32m   3568\u001b[0m )\n",
      "File \u001b[1;32mc:\\Users\\hanns\\anaconda3\\envs\\ExcelorSpreadcheet\\lib\\site-packages\\pandas\\io\\formats\\format.py:1180\u001b[0m, in \u001b[0;36mDataFrameRenderer.to_csv\u001b[1;34m(self, path_or_buf, encoding, sep, columns, index_label, mode, compression, quoting, quotechar, line_terminator, chunksize, date_format, doublequote, escapechar, errors, storage_options)\u001b[0m\n\u001b[0;32m   1159\u001b[0m     created_buffer \u001b[39m=\u001b[39m \u001b[39mFalse\u001b[39;00m\n\u001b[0;32m   1161\u001b[0m csv_formatter \u001b[39m=\u001b[39m CSVFormatter(\n\u001b[0;32m   1162\u001b[0m     path_or_buf\u001b[39m=\u001b[39mpath_or_buf,\n\u001b[0;32m   1163\u001b[0m     line_terminator\u001b[39m=\u001b[39mline_terminator,\n\u001b[1;32m   (...)\u001b[0m\n\u001b[0;32m   1178\u001b[0m     formatter\u001b[39m=\u001b[39m\u001b[39mself\u001b[39m\u001b[39m.\u001b[39mfmt,\n\u001b[0;32m   1179\u001b[0m )\n\u001b[1;32m-> 1180\u001b[0m csv_formatter\u001b[39m.\u001b[39;49msave()\n\u001b[0;32m   1182\u001b[0m \u001b[39mif\u001b[39;00m created_buffer:\n\u001b[0;32m   1183\u001b[0m     \u001b[39massert\u001b[39;00m \u001b[39misinstance\u001b[39m(path_or_buf, StringIO)\n",
      "File \u001b[1;32mc:\\Users\\hanns\\anaconda3\\envs\\ExcelorSpreadcheet\\lib\\site-packages\\pandas\\io\\formats\\csvs.py:241\u001b[0m, in \u001b[0;36mCSVFormatter.save\u001b[1;34m(self)\u001b[0m\n\u001b[0;32m    237\u001b[0m \u001b[39m\"\"\"\u001b[39;00m\n\u001b[0;32m    238\u001b[0m \u001b[39mCreate the writer & save.\u001b[39;00m\n\u001b[0;32m    239\u001b[0m \u001b[39m\"\"\"\u001b[39;00m\n\u001b[0;32m    240\u001b[0m \u001b[39m# apply compression and byte/text conversion\u001b[39;00m\n\u001b[1;32m--> 241\u001b[0m \u001b[39mwith\u001b[39;00m get_handle(\n\u001b[0;32m    242\u001b[0m     \u001b[39mself\u001b[39;49m\u001b[39m.\u001b[39;49mfilepath_or_buffer,\n\u001b[0;32m    243\u001b[0m     \u001b[39mself\u001b[39;49m\u001b[39m.\u001b[39;49mmode,\n\u001b[0;32m    244\u001b[0m     encoding\u001b[39m=\u001b[39;49m\u001b[39mself\u001b[39;49m\u001b[39m.\u001b[39;49mencoding,\n\u001b[0;32m    245\u001b[0m     errors\u001b[39m=\u001b[39;49m\u001b[39mself\u001b[39;49m\u001b[39m.\u001b[39;49merrors,\n\u001b[0;32m    246\u001b[0m     compression\u001b[39m=\u001b[39;49m\u001b[39mself\u001b[39;49m\u001b[39m.\u001b[39;49mcompression,\n\u001b[0;32m    247\u001b[0m     storage_options\u001b[39m=\u001b[39;49m\u001b[39mself\u001b[39;49m\u001b[39m.\u001b[39;49mstorage_options,\n\u001b[0;32m    248\u001b[0m ) \u001b[39mas\u001b[39;00m handles:\n\u001b[0;32m    249\u001b[0m \n\u001b[0;32m    250\u001b[0m     \u001b[39m# Note: self.encoding is irrelevant here\u001b[39;00m\n\u001b[0;32m    251\u001b[0m     \u001b[39mself\u001b[39m\u001b[39m.\u001b[39mwriter \u001b[39m=\u001b[39m csvlib\u001b[39m.\u001b[39mwriter(\n\u001b[0;32m    252\u001b[0m         handles\u001b[39m.\u001b[39mhandle,\n\u001b[0;32m    253\u001b[0m         lineterminator\u001b[39m=\u001b[39m\u001b[39mself\u001b[39m\u001b[39m.\u001b[39mline_terminator,\n\u001b[1;32m   (...)\u001b[0m\n\u001b[0;32m    258\u001b[0m         quotechar\u001b[39m=\u001b[39m\u001b[39mself\u001b[39m\u001b[39m.\u001b[39mquotechar,\n\u001b[0;32m    259\u001b[0m     )\n\u001b[0;32m    261\u001b[0m     \u001b[39mself\u001b[39m\u001b[39m.\u001b[39m_save()\n",
      "File \u001b[1;32mc:\\Users\\hanns\\anaconda3\\envs\\ExcelorSpreadcheet\\lib\\site-packages\\pandas\\io\\common.py:658\u001b[0m, in \u001b[0;36mget_handle\u001b[1;34m(path_or_buf, mode, encoding, compression, memory_map, is_text, errors, storage_options)\u001b[0m\n\u001b[0;32m    655\u001b[0m encoding \u001b[39m=\u001b[39m encoding \u001b[39mor\u001b[39;00m \u001b[39m\"\u001b[39m\u001b[39mutf-8\u001b[39m\u001b[39m\"\u001b[39m\n\u001b[0;32m    657\u001b[0m \u001b[39m# read_csv does not know whether the buffer is opened in binary/text mode\u001b[39;00m\n\u001b[1;32m--> 658\u001b[0m \u001b[39mif\u001b[39;00m _is_binary_mode(path_or_buf, mode) \u001b[39mand\u001b[39;00m \u001b[39m\"\u001b[39m\u001b[39mb\u001b[39m\u001b[39m\"\u001b[39m \u001b[39mnot\u001b[39;00m \u001b[39min\u001b[39;00m mode:\n\u001b[0;32m    659\u001b[0m     mode \u001b[39m+\u001b[39m\u001b[39m=\u001b[39m \u001b[39m\"\u001b[39m\u001b[39mb\u001b[39m\u001b[39m\"\u001b[39m\n\u001b[0;32m    661\u001b[0m \u001b[39m# validate encoding and errors\u001b[39;00m\n",
      "File \u001b[1;32mc:\\Users\\hanns\\anaconda3\\envs\\ExcelorSpreadcheet\\lib\\site-packages\\pandas\\io\\common.py:1125\u001b[0m, in \u001b[0;36m_is_binary_mode\u001b[1;34m(handle, mode)\u001b[0m\n\u001b[0;32m   1122\u001b[0m \u001b[39mif\u001b[39;00m \u001b[39missubclass\u001b[39m(\u001b[39mtype\u001b[39m(handle), text_classes):\n\u001b[0;32m   1123\u001b[0m     \u001b[39mreturn\u001b[39;00m \u001b[39mFalse\u001b[39;00m\n\u001b[1;32m-> 1125\u001b[0m \u001b[39mreturn\u001b[39;00m \u001b[39misinstance\u001b[39m(handle, _get_binary_io_classes()) \u001b[39mor\u001b[39;00m \u001b[39m\"\u001b[39;49m\u001b[39mb\u001b[39;49m\u001b[39m\"\u001b[39;49m \u001b[39min\u001b[39;49;00m \u001b[39mgetattr\u001b[39;49m(\n\u001b[0;32m   1126\u001b[0m     handle, \u001b[39m\"\u001b[39;49m\u001b[39mmode\u001b[39;49m\u001b[39m\"\u001b[39;49m, mode\n\u001b[0;32m   1127\u001b[0m )\n",
      "\u001b[1;31mTypeError\u001b[0m: argument of type 'method' is not iterable"
     ]
    }
   ],
   "source": [
    "df_headline.to_csv (df_headline, index = False)"
   ]
  },
  {
   "cell_type": "code",
   "execution_count": null,
   "metadata": {},
   "outputs": [],
   "source": [
    "from selenium import webdriver\n",
    "from selenium.webdriver.chrome.service import Service\n",
    "import pandas as pd\n",
    "\n",
    "# with this will import the options to enable to run Selenium in the background\n",
    "from selenium.webdriver.chrome.options import Options\n",
    "\n",
    "# make an executable\n",
    "import os\n",
    "import sys\n",
    "\n",
    "\n",
    "# importing the day and time \n",
    "import datetime\n",
    "import time\n",
    "\n",
    "# export the file where we are running the file\n",
    "aplication_path = os.path.dirname(sys.executable)\n",
    "\n",
    "# select the path we are using\n",
    "website = \"https://www.reuters.com/\"\n",
    "\n",
    "opciones = Options()\n",
    "opciones.headless = True\n",
    "\n",
    "# path = \"/Users/hanns/OneDriveDocumentos/Automate_with_Python/3_Automate_The_News/chromedriver.exe\"\n",
    "# services = Service(executable_path = path)\n",
    "\n",
    "# # we run the driver in Selenium 4 to run on the Chrome browser\n",
    "driver = webdriver.Chrome(r\"C:\\Users\\hanns\\OneDrive\\Documentos\\Data_science_code\\codewithmosh\\Browser_Automation_Selenium/chromedriver.exe\", options = opciones)\n",
    "# driver = webdriver.Chrome()\n",
    "\n",
    "\n",
    "# link for the website\n",
    "driver.get(website)\n",
    "\n",
    "\n",
    "driver.implicitly_wait(0.2)\n",
    "# maximaze the window\n",
    "driver.maximize_window()\n",
    "# accept all the conditions\n",
    "accept_terms = driver.find_element(by = \"xpath\", value='//div[@id=\"onetrust-button-group\"]/button')\n",
    "\n",
    "driver.implicitly_wait(0.2)\n",
    "# we click the bottom\n",
    "accept_terms.click()\n",
    "driver.implicitly_wait(2)\n",
    "\n",
    "\n",
    "\n",
    "# import the container of the website\n",
    "container = driver.find_elements(by = \"xpath\", value='//div[@data-testid=\"MediaStoryCard\"]')\n",
    "\n",
    "# add the items in a lists\n",
    "titles = []\n",
    "links_a = []\n",
    "\n",
    "\n",
    "# for look for extracting the element inside the box\n",
    "for contain in container:\n",
    "    # older xpath\n",
    "    # //a[@data-testid=\"Heading\"]/span\n",
    "    title = contain.find_element(by = \"xpath\", value = './/a[@data-testid=\"Heading\"]/span').text\n",
    "\n",
    "    link_a = contain.find_element(by = \"xpath\", value = './/a[@data-testid=\"Heading\"]').get_attribute(\"href\")\n",
    "\n",
    "    # append or add the text to the lists\n",
    "    titles.append(title)\n",
    "    links_a.append(link_a)\n",
    "\n",
    "# use a dictionary to add the values from the list to the dictionary\n",
    "my_dictionay = {'titles': titles, 'links': link_a}\n",
    "\n",
    "# transform into the pandas format\n",
    "df_headline = pd.DataFrame(my_dictionay)\n",
    "\n",
    "\n",
    "\n",
    "\n",
    "print(df_headline)\n",
    "# add the todays day variable to add to the name of the file\n",
    "# find the sheetcheet for strftime = https://strftime.org/\n",
    "# todays_date = datetime.now() \n",
    "# # this was other option\n",
    "todays_date = datetime.date.today() \n",
    "#year, month and day\n",
    "tmd_day = todays_date.strftime('%Y-%m-%d') \n",
    "print(tmd_day)\n",
    "# f'{today_text}_reuters.csv'\n",
    "file_name = f'{tmd_day}_reuters.csv'\n",
    "print(file_name)\n",
    "# final path where we export the .exe file  and the join take care of the path\n",
    "final_path = os.path.join(aplication_path, file_name)\n",
    "print(final_path)\n",
    "\n",
    "# convert to csv\n",
    "df_headline.to_excel(final_path)\n",
    "print(\"sfdf\")\n",
    "# close the driver so the program will stop to work\n",
    "drive.close()\n",
    "driver.quit()\n",
    "\n",
    "csv.writer\n",
    "\n",
    "\n",
    "\n",
    "\n",
    "\n",
    "\n",
    "\n",
    "\n",
    "\n",
    "\n",
    "\n",
    "\n",
    "\n",
    "\n"
   ]
  }
 ],
 "metadata": {
  "kernelspec": {
   "display_name": "Python 3.9.13 ('ExcelorSpreadcheet')",
   "language": "python",
   "name": "python3"
  },
  "language_info": {
   "codemirror_mode": {
    "name": "ipython",
    "version": 3
   },
   "file_extension": ".py",
   "mimetype": "text/x-python",
   "name": "python",
   "nbconvert_exporter": "python",
   "pygments_lexer": "ipython3",
   "version": "3.9.13"
  },
  "orig_nbformat": 4,
  "vscode": {
   "interpreter": {
    "hash": "cec0c9602c28f857c968cdc3fda8af520f9cf84fa5ce31f1a70e84a6c6315d75"
   }
  }
 },
 "nbformat": 4,
 "nbformat_minor": 2
}
