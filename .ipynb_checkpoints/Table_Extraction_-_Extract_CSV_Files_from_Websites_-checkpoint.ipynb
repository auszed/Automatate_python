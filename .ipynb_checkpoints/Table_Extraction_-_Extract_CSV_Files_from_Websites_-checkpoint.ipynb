{
 "cells": [
  {
   "cell_type": "code",
   "execution_count": 1,
   "id": "cdf42c73-c8ba-41b7-933d-43e9dac55409",
   "metadata": {},
   "outputs": [],
   "source": [
    "import pandas as pd"
   ]
  },
  {
   "cell_type": "code",
   "execution_count": 2,
   "id": "19f5e805-795e-4082-9e8e-03e350cc8b55",
   "metadata": {},
   "outputs": [],
   "source": [
    "simpsons = pd.read_html('https://en.wikipedia.org/wiki/The_Simpsons')"
   ]
  },
  {
   "cell_type": "code",
   "execution_count": 3,
   "id": "b6453268-cd91-483e-8f5d-ba0e8b72a7a4",
   "metadata": {},
   "outputs": [
    {
     "data": {
      "text/plain": [
       "47"
      ]
     },
     "execution_count": 3,
     "metadata": {},
     "output_type": "execute_result"
    }
   ],
   "source": [
    "len(simpsons)"
   ]
  },
  {
   "cell_type": "code",
   "execution_count": null,
   "id": "a1028505-a1fd-4773-b139-d7a043789564",
   "metadata": {},
   "outputs": [],
   "source": [
    "import a table\n",
    "simpsons[32]"
   ]
  },
  {
   "cell_type": "code",
   "execution_count": null,
   "id": "025106c1-01a6-49d9-9e72-4d5c967eba2f",
   "metadata": {},
   "outputs": [],
   "source": []
  },
  {
   "cell_type": "code",
   "execution_count": null,
   "id": "da07c28a-2cb6-4208-9a55-c0bb910b4827",
   "metadata": {},
   "outputs": [],
   "source": []
  },
  {
   "cell_type": "code",
   "execution_count": null,
   "id": "2fa45c72-4153-4334-baa5-62d3ac9f9e29",
   "metadata": {},
   "outputs": [],
   "source": []
  },
  {
   "cell_type": "code",
   "execution_count": null,
   "id": "8164f903-aee3-4864-a2a2-c0a0a548a289",
   "metadata": {},
   "outputs": [],
   "source": []
  }
 ],
 "metadata": {
  "kernelspec": {
   "display_name": "Python 3 (ipykernel)",
   "language": "python",
   "name": "python3"
  },
  "language_info": {
   "codemirror_mode": {
    "name": "ipython",
    "version": 3
   },
   "file_extension": ".py",
   "mimetype": "text/x-python",
   "name": "python",
   "nbconvert_exporter": "python",
   "pygments_lexer": "ipython3",
   "version": "3.9.13"
  }
 },
 "nbformat": 4,
 "nbformat_minor": 5
}
